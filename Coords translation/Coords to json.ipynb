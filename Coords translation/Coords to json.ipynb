{
 "cells": [
  {
   "cell_type": "code",
   "execution_count": 1,
   "id": "682def7b-1f50-4dd2-95d8-e0fdf3bee33a",
   "metadata": {},
   "outputs": [],
   "source": [
    "import pandas\n"
   ]
  },
  {
   "cell_type": "code",
   "execution_count": 2,
   "id": "09be5e38-022e-4839-83cf-c82f2280a550",
   "metadata": {},
   "outputs": [
    {
     "data": {
      "text/plain": [
       "'1.5.3'"
      ]
     },
     "execution_count": 2,
     "metadata": {},
     "output_type": "execute_result"
    }
   ],
   "source": [
    "pandas.__version__\n"
   ]
  },
  {
   "cell_type": "code",
   "execution_count": 4,
   "id": "4ac86723-88d8-401d-85c2-96d4cfed302e",
   "metadata": {},
   "outputs": [
    {
     "name": "stdout",
     "output_type": "stream",
     "text": [
      "C:\\Users\\Tatiana.Ulyanina\n"
     ]
    }
   ],
   "source": [
    "import os\n",
    "current_path = os.getcwd()\n",
    "print(current_path)"
   ]
  },
  {
   "cell_type": "code",
   "execution_count": 44,
   "id": "e2c1a8be-f1b1-4d92-8c60-b2ab47b18768",
   "metadata": {},
   "outputs": [],
   "source": [
    "import pandas as pd"
   ]
  },
  {
   "cell_type": "code",
   "execution_count": 62,
   "id": "2dc647b6-d175-4eba-81e5-739493ecc704",
   "metadata": {},
   "outputs": [],
   "source": [
    "# Load the xlsx file\n",
    "excel_data = pd.read_excel(\"C:\\Python scripts\\For MP\\input.xlsx\")"
   ]
  },
  {
   "cell_type": "code",
   "execution_count": 63,
   "id": "a7d0581a-df8e-487b-9e83-586e6caab27c",
   "metadata": {},
   "outputs": [
    {
     "name": "stdout",
     "output_type": "stream",
     "text": [
      "The content of the file is:\n",
      "      name    x    y\n",
      "0   name1   x1   y1\n",
      "1   name1   x2   y2\n",
      "2   name1   x3   y3\n",
      "3   name1   x4   y4\n",
      "4   name2   x5   y5\n",
      "5   name2   x6   y6\n",
      "6   name2   x7   y7\n",
      "7   name2   x8   y8\n",
      "8   name2   x9   y9\n",
      "9   name3  x10  y10\n",
      "10  name3  x11  y11\n",
      "11  name3  x12  y12\n"
     ]
    }
   ],
   "source": [
    "# Read the values of the file in the dataframe\n",
    "data = pd.DataFrame(excel_data, columns=['name', 'x', 'y'])\n",
    "# Print the content\n",
    "print(\"The content of the file is:\\n\", data)"
   ]
  },
  {
   "cell_type": "code",
   "execution_count": 64,
   "id": "e032e892-15a2-408d-ad71-d7914a8ab28d",
   "metadata": {},
   "outputs": [
    {
     "name": "stdout",
     "output_type": "stream",
     "text": [
      "name\n",
      "x\n",
      "y\n"
     ]
    }
   ],
   "source": [
    "for i in data:\n",
    "    print(i)"
   ]
  },
  {
   "cell_type": "code",
   "execution_count": 84,
   "id": "93d380de-e91f-4d04-af88-96d53ac7ec2f",
   "metadata": {},
   "outputs": [
    {
     "name": "stdout",
     "output_type": "stream",
     "text": [
      "      x    y\n",
      "0    x1   y1\n",
      "1    x2   y2\n",
      "2    x3   y3\n",
      "3    x4   y4\n",
      "4    x5   y5\n",
      "5    x6   y6\n",
      "6    x7   y7\n",
      "7    x8   y8\n",
      "8    x9   y9\n",
      "9   x10  y10\n",
      "10  x11  y11\n",
      "11  x12  y12\n"
     ]
    }
   ],
   "source": [
    "print(data[['x','y']])"
   ]
  },
  {
   "cell_type": "code",
   "execution_count": 85,
   "id": "e452cfa8-1e30-4e23-94bf-dac00c452859",
   "metadata": {},
   "outputs": [],
   "source": [
    "import  numpy\n"
   ]
  },
  {
   "cell_type": "code",
   "execution_count": 104,
   "id": "3c675c4b-3a65-4106-9358-403086a839fb",
   "metadata": {},
   "outputs": [],
   "source": [
    "lst = []\n",
    "for row in data.itertuples():\n",
    "    lst.append([row[1] , row[2], row[3]])"
   ]
  },
  {
   "cell_type": "code",
   "execution_count": 116,
   "id": "1576e5e3-9b71-4261-b78f-fd44c43745c6",
   "metadata": {},
   "outputs": [
    {
     "name": "stdout",
     "output_type": "stream",
     "text": [
      "[['name1', 'x1', 'y1'], ['name1', 'x2', 'y2'], ['name1', 'x3', 'y3'], ['name1', 'x4', 'y4'], ['name2', 'x5', 'y5'], ['name2', 'x6', 'y6'], ['name2', 'x7', 'y7'], ['name2', 'x8', 'y8'], ['name2', 'x9', 'y9'], ['name3', 'x10', 'y10'], ['name3', 'x11', 'y11'], ['name3', 'x12', 'y12']]\n"
     ]
    }
   ],
   "source": [
    "print(lst)"
   ]
  },
  {
   "cell_type": "code",
   "execution_count": 141,
   "id": "9e9298d3-b6f5-4df8-8005-f61bf5817119",
   "metadata": {},
   "outputs": [
    {
     "name": "stdout",
     "output_type": "stream",
     "text": [
      "{'name1': [('x1', 'y1'), ('x2', 'y2'), ('x3', 'y3'), ('x4', 'y4')], 'name2': [('x5', 'y5'), ('x6', 'y6'), ('x7', 'y7'), ('x8', 'y8'), ('x9', 'y9')], 'name3': [('x10', 'y10'), ('x11', 'y11'), ('x12', 'y12')]}\n"
     ]
    }
   ],
   "source": [
    "d = {}\n",
    "\n",
    "i=0\n",
    "while i < len(lst):\n",
    "    if lst[i][0] in list(d.keys()):\n",
    "        d[lst[i][0]].append((lst[i][1],lst[i][2]))\n",
    "    if lst[i][0] not in list(d.keys()):\n",
    "        l = []\n",
    "        d[lst[i][0]] = l\n",
    "        l.append((lst[i][1],lst[i][2]))\n",
    "    i=i+1\n",
    "\n",
    "    \n",
    "print(d)        "
   ]
  },
  {
   "cell_type": "code",
   "execution_count": 142,
   "id": "28ac5219-ef3c-422a-9335-b3c8f3780463",
   "metadata": {},
   "outputs": [
    {
     "name": "stdout",
     "output_type": "stream",
     "text": [
      "{'name1': [('x1', 'y1'), ('x2', 'y2'), ('x3', 'y3'), ('x4', 'y4')], 'name2': [('x5', 'y5'), ('x6', 'y6'), ('x7', 'y7'), ('x8', 'y8'), ('x9', 'y9')], 'name3': [('x10', 'y10'), ('x11', 'y11'), ('x12', 'y12')]}\n"
     ]
    }
   ],
   "source": [
    "print(d)"
   ]
  },
  {
   "cell_type": "code",
   "execution_count": 153,
   "id": "1c5b2506-5051-4102-888c-7c17173e3a8a",
   "metadata": {},
   "outputs": [
    {
     "data": {
      "text/plain": [
       "2"
      ]
     },
     "execution_count": 153,
     "metadata": {},
     "output_type": "execute_result"
    }
   ],
   "source": [
    "f = open('json_result.txt', 'w')\n",
    "f.write('{\"type\": \"FeatureCollection\",\"features\": [')\n",
    "for i in d:\n",
    "    f.write('{\"type\": \"Feature\",\"properties\": {\"NAME\":' + i + '},\"geometry\": {\"type\": \"Polygon\",\"coordinates\": [['+ str(d[i])+ ']]}},' + '\\n')\n",
    "    #print('{\"type\": \"FeatureCollection\",\"features\": [{\"type\": \"Feature\",\"properties\": {\"NAME\":' , i, '},\"geometry\": {\"type\": \"Polygon\",\"coordinates\": [[',d[i],']]}}]},')\n",
    "f.write(']}')"
   ]
  },
  {
   "cell_type": "code",
   "execution_count": 24,
   "id": "b015afe9-7b2b-409c-8a28-3aa7b9d14dd2",
   "metadata": {},
   "outputs": [
    {
     "name": "stdout",
     "output_type": "stream",
     "text": [
      "The content of the file is:\n",
      "    Block     Широта    Долгота\n",
      "0   3А-1  67.651233  44.734244\n",
      "1   3А-1  67.651641  44.734459\n",
      "2   3А-1  67.652104  44.734314\n",
      "3   3А-1  67.652158  44.733956\n",
      "4   3А-1  67.652618  44.733834\n",
      "5   3А-1  67.652677  44.733456\n",
      "6   3А-1  67.653186  44.733300\n",
      "7   3А-1  67.653649  44.733519\n",
      "8   3А-1  67.654092  44.733327\n",
      "9   3А-1  67.654201  44.733002\n",
      "10  3А-1  67.653907  44.732707\n",
      "11  3А-1  67.653961  44.732291\n",
      "12  3А-1  67.653422  44.732102\n",
      "13  3А-1  67.653046  44.732310\n",
      "14  3А-1  67.652850  44.732664\n",
      "15  3А-1  67.652367  44.732838\n",
      "16  3А-1  67.652271  44.733242\n",
      "17  3А-1  67.651811  44.733387\n",
      "18  3А-1  67.651752  44.733741\n",
      "19  3А-1  67.651284  44.733888\n",
      "20  3А-1  67.651233  44.734244\n",
      "21  3А-2  67.654201  44.733002\n",
      "22  3А-2  67.654886  44.733082\n",
      "23  3А-2  67.655380  44.732960\n",
      "24  3А-2  67.656110  44.732978\n",
      "25  3А-2  67.654286  44.731024\n",
      "26  3А-2  67.653758  44.731222\n",
      "27  3А-2  67.653503  44.731570\n",
      "28  3А-2  67.653422  44.732102\n",
      "29  3А-2  67.653961  44.732291\n",
      "30  3А-2  67.653907  44.732707\n",
      "31  3А-2  67.654201  44.733002\n",
      "32  3А-3  67.654286  44.731024\n",
      "33  3А-3  67.656820  44.732902\n",
      "34  3А-3  67.657234  44.732571\n",
      "35  3А-3  67.655018  44.730200\n",
      "36  3А-3  67.654419  44.730370\n",
      "37  3А-3  67.654008  44.730724\n",
      "38  3А-3  67.654286  44.731024\n",
      "[['3А-1', 67.65123335, 44.734243651], ['3А-1', 67.651641406, 44.734459307], ['3А-1', 67.65210418, 44.734314134], ['3А-1', 67.652157812, 44.733956444], ['3А-1', 67.652618044, 44.733833556], ['3А-1', 67.652677318, 44.733455596], ['3А-1', 67.653186409, 44.733299718], ['3А-1', 67.653649045, 44.733518979], ['3А-1', 67.654092066, 44.733326864], ['3А-1', 67.654201484, 44.733001775], ['3А-1', 67.653907244, 44.732706753], ['3А-1', 67.653960829, 44.732290661], ['3А-1', 67.653422, 44.732101997], ['3А-1', 67.653046025, 44.732310199], ['3А-1', 67.652849708, 44.732664226], ['3А-1', 67.652367097, 44.732837963], ['3А-1', 67.652270988, 44.733241854], ['3А-1', 67.651811375, 44.733387155], ['3А-1', 67.65175189, 44.733741356], ['3А-1', 67.651284282, 44.733888269], ['3А-1', 67.65123335, 44.734243651], ['3А-2', 67.654201484, 44.733001775], ['3А-2', 67.654886257, 44.733081562], ['3А-2', 67.655379774, 44.732959955], ['3А-2', 67.656110171, 44.732977642], ['3А-2', 67.6542865, 44.731023632], ['3А-2', 67.653757895, 44.731221759], ['3А-2', 67.65350328, 44.731569701], ['3А-2', 67.653422, 44.732101997], ['3А-2', 67.653960829, 44.732290661], ['3А-2', 67.653907244, 44.732706753], ['3А-2', 67.654201484, 44.733001775], ['3А-3', 67.6542865, 44.731023632], ['3А-3', 67.656820268, 44.732901636], ['3А-3', 67.657234168, 44.732570722], ['3А-3', 67.655018321, 44.730200066], ['3А-3', 67.65441931, 44.730370011], ['3А-3', 67.654008271, 44.73072448], ['3А-3', 67.6542865, 44.731023632]]\n",
      "{'3А-1': [[67.65123335, 44.734243651], [67.651641406, 44.734459307], [67.65210418, 44.734314134], [67.652157812, 44.733956444], [67.652618044, 44.733833556], [67.652677318, 44.733455596], [67.653186409, 44.733299718], [67.653649045, 44.733518979], [67.654092066, 44.733326864], [67.654201484, 44.733001775], [67.653907244, 44.732706753], [67.653960829, 44.732290661], [67.653422, 44.732101997], [67.653046025, 44.732310199], [67.652849708, 44.732664226], [67.652367097, 44.732837963], [67.652270988, 44.733241854], [67.651811375, 44.733387155], [67.65175189, 44.733741356], [67.651284282, 44.733888269], [67.65123335, 44.734243651]], '3А-2': [[67.654201484, 44.733001775], [67.654886257, 44.733081562], [67.655379774, 44.732959955], [67.656110171, 44.732977642], [67.6542865, 44.731023632], [67.653757895, 44.731221759], [67.65350328, 44.731569701], [67.653422, 44.732101997], [67.653960829, 44.732290661], [67.653907244, 44.732706753], [67.654201484, 44.733001775]], '3А-3': [[67.6542865, 44.731023632], [67.656820268, 44.732901636], [67.657234168, 44.732570722], [67.655018321, 44.730200066], [67.65441931, 44.730370011], [67.654008271, 44.73072448], [67.6542865, 44.731023632]]}\n"
     ]
    },
    {
     "data": {
      "text/plain": [
       "2"
      ]
     },
     "execution_count": 24,
     "metadata": {},
     "output_type": "execute_result"
    }
   ],
   "source": [
    "#Script\n",
    "import pandas as pd\n",
    "import  numpy\n",
    "# Load the xlsx file\n",
    "excel_data = pd.read_excel(\"C:\\Python scripts\\For MP\\input.xlsx\")\n",
    "# Read the values of the file in the dataframe\n",
    "data = pd.DataFrame(excel_data, columns=['Block', 'Широта', 'Долгота'])\n",
    "# Print the content (check1)\n",
    "print(\"The content of the file is:\\n\", data)\n",
    "# Make a list\n",
    "lst = []\n",
    "for row in data.itertuples():\n",
    "    lst.append([row[1] , row[2], row[3]])\n",
    "#Print list (check2)\n",
    "print(lst)\n",
    "#Make coordinates dict\n",
    "d = {}\n",
    "i=0\n",
    "while i < len(lst):\n",
    "    if lst[i][0] in list(d.keys()):\n",
    "        d[lst[i][0]].append([lst[i][1],lst[i][2]])\n",
    "    if lst[i][0] not in list(d.keys()):\n",
    "        l = []\n",
    "        d[lst[i][0]] = l\n",
    "        l.append([lst[i][1],lst[i][2]])\n",
    "    i=i+1\n",
    "#Print coordinates dict (check3) \n",
    "print(d) \n",
    "# Open result file\n",
    "f = open('json_result2.json', 'w', encoding='utf-8')\n",
    "f.write('{\"type\": \"FeatureCollection\",\"features\": [' + '\\n')\n",
    "k = 0\n",
    "for i in d:\n",
    "    if k == len(d) - 1:\n",
    "        f.write('{\"type\": \"Feature\",\"properties\": {\"Block\":' + '\"' + i + '\"' +'},\"geometry\": {\"type\": \"Polygon\",\"coordinates\": ['+ str(d[i])+ ']}}')\n",
    "    else:\n",
    "        f.write('{\"type\": \"Feature\",\"properties\": {\"Block\":' + '\"' + i + '\"' +'},\"geometry\": {\"type\": \"Polygon\",\"coordinates\": ['+ str(d[i])+ ']}},' + '\\n')\n",
    "    k = k + 1\n",
    "    #print('{\"type\": \"FeatureCollection\",\"features\": [{\"type\": \"Feature\",\"properties\": {\"NAME\":' , i, '},\"geometry\": {\"type\": \"Polygon\",\"coordinates\": [[',d[i],']]}}]},')\n",
    "f.write(']}')\n",
    "#Done! check4 - in the file"
   ]
  },
  {
   "cell_type": "code",
   "execution_count": 23,
   "id": "a74bc2c2",
   "metadata": {},
   "outputs": [
    {
     "name": "stdout",
     "output_type": "stream",
     "text": [
      "3\n"
     ]
    }
   ],
   "source": [
    "print(len(d))"
   ]
  },
  {
   "cell_type": "code",
   "execution_count": null,
   "id": "30c5f8c7",
   "metadata": {},
   "outputs": [],
   "source": []
  },
  {
   "cell_type": "code",
   "execution_count": null,
   "id": "4c4d87b4",
   "metadata": {},
   "outputs": [],
   "source": []
  }
 ],
 "metadata": {
  "kernelspec": {
   "display_name": "Python 3 (ipykernel)",
   "language": "python",
   "name": "python3"
  },
  "language_info": {
   "codemirror_mode": {
    "name": "ipython",
    "version": 3
   },
   "file_extension": ".py",
   "mimetype": "text/x-python",
   "name": "python",
   "nbconvert_exporter": "python",
   "pygments_lexer": "ipython3",
   "version": "3.10.9"
  }
 },
 "nbformat": 4,
 "nbformat_minor": 5
}
